{
 "cells": [
  {
   "cell_type": "markdown",
   "metadata": {},
   "source": [
    "# Handling Outliers"
   ]
  },
  {
   "cell_type": "code",
   "execution_count": 1,
   "metadata": {},
   "outputs": [],
   "source": [
    "import pandas as pd\n",
    "import numpy as np\n",
    "import matplotlib.pyplot as plt\n",
    "%matplotlib inline\n",
    "import seaborn as sns"
   ]
  },
  {
   "cell_type": "markdown",
   "metadata": {},
   "source": [
    "### Sensitiveness to :\n",
    "    Linear Regression\n",
    "    Logistic Regression\n",
    "    KMeans Clustering\n",
    "    Hierachieal Clustering\n",
    "    PCA\n",
    "    NN\n",
    "\n",
    "### NotSensitive and Not affeted to:\n",
    "    Naive Bayes Classifier\n",
    "    SVM\n",
    "    Decision Tree\n",
    "    Ensembled Techniques\n",
    "    KNN"
   ]
  },
  {
   "cell_type": "code",
   "execution_count": 2,
   "metadata": {},
   "outputs": [],
   "source": [
    "data = pd.read_csv(\"F:/Files/Titanic.csv\")"
   ]
  },
  {
   "cell_type": "code",
   "execution_count": 3,
   "metadata": {},
   "outputs": [
    {
     "data": {
      "text/html": [
       "<div>\n",
       "<style scoped>\n",
       "    .dataframe tbody tr th:only-of-type {\n",
       "        vertical-align: middle;\n",
       "    }\n",
       "\n",
       "    .dataframe tbody tr th {\n",
       "        vertical-align: top;\n",
       "    }\n",
       "\n",
       "    .dataframe thead th {\n",
       "        text-align: right;\n",
       "    }\n",
       "</style>\n",
       "<table border=\"1\" class=\"dataframe\">\n",
       "  <thead>\n",
       "    <tr style=\"text-align: right;\">\n",
       "      <th></th>\n",
       "      <th>PassengerId</th>\n",
       "      <th>Survived</th>\n",
       "      <th>Pclass</th>\n",
       "      <th>Name</th>\n",
       "      <th>Sex</th>\n",
       "      <th>Age</th>\n",
       "      <th>SibSp</th>\n",
       "      <th>Parch</th>\n",
       "      <th>Ticket</th>\n",
       "      <th>Fare</th>\n",
       "      <th>Cabin</th>\n",
       "      <th>Embarked</th>\n",
       "    </tr>\n",
       "  </thead>\n",
       "  <tbody>\n",
       "    <tr>\n",
       "      <th>0</th>\n",
       "      <td>1</td>\n",
       "      <td>0</td>\n",
       "      <td>3</td>\n",
       "      <td>Braund, Mr. Owen Harris</td>\n",
       "      <td>male</td>\n",
       "      <td>22.0</td>\n",
       "      <td>1</td>\n",
       "      <td>0</td>\n",
       "      <td>A/5 21171</td>\n",
       "      <td>7.2500</td>\n",
       "      <td>NaN</td>\n",
       "      <td>S</td>\n",
       "    </tr>\n",
       "    <tr>\n",
       "      <th>1</th>\n",
       "      <td>2</td>\n",
       "      <td>1</td>\n",
       "      <td>1</td>\n",
       "      <td>Cumings, Mrs. John Bradley (Florence Briggs Th...</td>\n",
       "      <td>female</td>\n",
       "      <td>38.0</td>\n",
       "      <td>1</td>\n",
       "      <td>0</td>\n",
       "      <td>PC 17599</td>\n",
       "      <td>71.2833</td>\n",
       "      <td>C85</td>\n",
       "      <td>C</td>\n",
       "    </tr>\n",
       "    <tr>\n",
       "      <th>2</th>\n",
       "      <td>3</td>\n",
       "      <td>1</td>\n",
       "      <td>3</td>\n",
       "      <td>Heikkinen, Miss. Laina</td>\n",
       "      <td>female</td>\n",
       "      <td>26.0</td>\n",
       "      <td>0</td>\n",
       "      <td>0</td>\n",
       "      <td>STON/O2. 3101282</td>\n",
       "      <td>7.9250</td>\n",
       "      <td>NaN</td>\n",
       "      <td>S</td>\n",
       "    </tr>\n",
       "    <tr>\n",
       "      <th>3</th>\n",
       "      <td>4</td>\n",
       "      <td>1</td>\n",
       "      <td>1</td>\n",
       "      <td>Futrelle, Mrs. Jacques Heath (Lily May Peel)</td>\n",
       "      <td>female</td>\n",
       "      <td>35.0</td>\n",
       "      <td>1</td>\n",
       "      <td>0</td>\n",
       "      <td>113803</td>\n",
       "      <td>53.1000</td>\n",
       "      <td>C123</td>\n",
       "      <td>S</td>\n",
       "    </tr>\n",
       "    <tr>\n",
       "      <th>4</th>\n",
       "      <td>5</td>\n",
       "      <td>0</td>\n",
       "      <td>3</td>\n",
       "      <td>Allen, Mr. William Henry</td>\n",
       "      <td>male</td>\n",
       "      <td>35.0</td>\n",
       "      <td>0</td>\n",
       "      <td>0</td>\n",
       "      <td>373450</td>\n",
       "      <td>8.0500</td>\n",
       "      <td>NaN</td>\n",
       "      <td>S</td>\n",
       "    </tr>\n",
       "  </tbody>\n",
       "</table>\n",
       "</div>"
      ],
      "text/plain": [
       "   PassengerId  Survived  Pclass  \\\n",
       "0            1         0       3   \n",
       "1            2         1       1   \n",
       "2            3         1       3   \n",
       "3            4         1       1   \n",
       "4            5         0       3   \n",
       "\n",
       "                                                Name     Sex   Age  SibSp  \\\n",
       "0                            Braund, Mr. Owen Harris    male  22.0      1   \n",
       "1  Cumings, Mrs. John Bradley (Florence Briggs Th...  female  38.0      1   \n",
       "2                             Heikkinen, Miss. Laina  female  26.0      0   \n",
       "3       Futrelle, Mrs. Jacques Heath (Lily May Peel)  female  35.0      1   \n",
       "4                           Allen, Mr. William Henry    male  35.0      0   \n",
       "\n",
       "   Parch            Ticket     Fare Cabin Embarked  \n",
       "0      0         A/5 21171   7.2500   NaN        S  \n",
       "1      0          PC 17599  71.2833   C85        C  \n",
       "2      0  STON/O2. 3101282   7.9250   NaN        S  \n",
       "3      0            113803  53.1000  C123        S  \n",
       "4      0            373450   8.0500   NaN        S  "
      ]
     },
     "execution_count": 3,
     "metadata": {},
     "output_type": "execute_result"
    }
   ],
   "source": [
    "data.head()"
   ]
  },
  {
   "cell_type": "markdown",
   "metadata": {},
   "source": [
    "from this we take Age and Fare column to work on"
   ]
  },
  {
   "cell_type": "code",
   "execution_count": 4,
   "metadata": {},
   "outputs": [],
   "source": [
    "data = data[['Age', 'Fare']]"
   ]
  },
  {
   "cell_type": "code",
   "execution_count": 5,
   "metadata": {},
   "outputs": [
    {
     "data": {
      "text/html": [
       "<div>\n",
       "<style scoped>\n",
       "    .dataframe tbody tr th:only-of-type {\n",
       "        vertical-align: middle;\n",
       "    }\n",
       "\n",
       "    .dataframe tbody tr th {\n",
       "        vertical-align: top;\n",
       "    }\n",
       "\n",
       "    .dataframe thead th {\n",
       "        text-align: right;\n",
       "    }\n",
       "</style>\n",
       "<table border=\"1\" class=\"dataframe\">\n",
       "  <thead>\n",
       "    <tr style=\"text-align: right;\">\n",
       "      <th></th>\n",
       "      <th>Age</th>\n",
       "      <th>Fare</th>\n",
       "    </tr>\n",
       "  </thead>\n",
       "  <tbody>\n",
       "    <tr>\n",
       "      <th>0</th>\n",
       "      <td>22.0</td>\n",
       "      <td>7.2500</td>\n",
       "    </tr>\n",
       "    <tr>\n",
       "      <th>1</th>\n",
       "      <td>38.0</td>\n",
       "      <td>71.2833</td>\n",
       "    </tr>\n",
       "    <tr>\n",
       "      <th>2</th>\n",
       "      <td>26.0</td>\n",
       "      <td>7.9250</td>\n",
       "    </tr>\n",
       "    <tr>\n",
       "      <th>3</th>\n",
       "      <td>35.0</td>\n",
       "      <td>53.1000</td>\n",
       "    </tr>\n",
       "    <tr>\n",
       "      <th>4</th>\n",
       "      <td>35.0</td>\n",
       "      <td>8.0500</td>\n",
       "    </tr>\n",
       "    <tr>\n",
       "      <th>...</th>\n",
       "      <td>...</td>\n",
       "      <td>...</td>\n",
       "    </tr>\n",
       "    <tr>\n",
       "      <th>886</th>\n",
       "      <td>27.0</td>\n",
       "      <td>13.0000</td>\n",
       "    </tr>\n",
       "    <tr>\n",
       "      <th>887</th>\n",
       "      <td>19.0</td>\n",
       "      <td>30.0000</td>\n",
       "    </tr>\n",
       "    <tr>\n",
       "      <th>888</th>\n",
       "      <td>NaN</td>\n",
       "      <td>23.4500</td>\n",
       "    </tr>\n",
       "    <tr>\n",
       "      <th>889</th>\n",
       "      <td>26.0</td>\n",
       "      <td>30.0000</td>\n",
       "    </tr>\n",
       "    <tr>\n",
       "      <th>890</th>\n",
       "      <td>32.0</td>\n",
       "      <td>7.7500</td>\n",
       "    </tr>\n",
       "  </tbody>\n",
       "</table>\n",
       "<p>891 rows × 2 columns</p>\n",
       "</div>"
      ],
      "text/plain": [
       "      Age     Fare\n",
       "0    22.0   7.2500\n",
       "1    38.0  71.2833\n",
       "2    26.0   7.9250\n",
       "3    35.0  53.1000\n",
       "4    35.0   8.0500\n",
       "..    ...      ...\n",
       "886  27.0  13.0000\n",
       "887  19.0  30.0000\n",
       "888   NaN  23.4500\n",
       "889  26.0  30.0000\n",
       "890  32.0   7.7500\n",
       "\n",
       "[891 rows x 2 columns]"
      ]
     },
     "execution_count": 5,
     "metadata": {},
     "output_type": "execute_result"
    }
   ],
   "source": [
    "data"
   ]
  },
  {
   "cell_type": "code",
   "execution_count": 10,
   "metadata": {},
   "outputs": [],
   "source": [
    "df = data.copy()"
   ]
  },
  {
   "cell_type": "code",
   "execution_count": 19,
   "metadata": {},
   "outputs": [
    {
     "data": {
      "image/png": "[encoded data removed]",
      "text/plain": [
       "<Figure size 720x288 with 2 Axes>"
      ]
     },
     "metadata": {
      "needs_background": "light"
     },
     "output_type": "display_data"
    },
    {
     "data": {
      "image/png": "[encoded data removed]",
      "text/plain": [
       "<Figure size 720x288 with 2 Axes>"
      ]
     },
     "metadata": {
      "needs_background": "light"
     },
     "output_type": "display_data"
    }
   ],
   "source": [
    "for i in df.columns:\n",
    "    plt.figure(figsize = (10,4))\n",
    "    val = np.random.randint(100000,999999)\n",
    "    col = \"#\" + str(val)\n",
    "    plt.subplot(1,2,1)\n",
    "    sns.distplot(df[i], kde = False, color = col, label = i)\n",
    "    plt.legend()\n",
    "    plt.subplot(1,2,2)\n",
    "    sns.boxplot(df[i], color = col)\n",
    "\n",
    "    plt.show()"
   ]
  },
  {
   "cell_type": "markdown",
   "metadata": {},
   "source": [
    "From this plot, we conclude that Age and Fare have an outlier's at the right end of the distribution"
   ]
  },
  {
   "cell_type": "markdown",
   "metadata": {},
   "source": [
    "# Gaussian Distribution to find the outliers"
   ]
  },
  {
   "cell_type": "code",
   "execution_count": 37,
   "metadata": {},
   "outputs": [],
   "source": [
    "def ran(df, var):\n",
    "    upper = df[var].mean() + (3 * df[var].std())\n",
    "    lower = df[var].mean() - (3 * df[var].std())\n",
    "    mean = df[var].mean()\n",
    "    return (upper,lower,mean)"
   ]
  },
  {
   "cell_type": "code",
   "execution_count": 38,
   "metadata": {},
   "outputs": [],
   "source": [
    "Age_lst = ran(df,'Age')"
   ]
  },
  {
   "cell_type": "code",
   "execution_count": 40,
   "metadata": {},
   "outputs": [
    {
     "data": {
      "text/plain": [
       "(73.27860964406095, -13.88037434994331, 29.69911764705882)"
      ]
     },
     "execution_count": 40,
     "metadata": {},
     "output_type": "execute_result"
    }
   ],
   "source": [
    "Age_lst"
   ]
  },
  {
   "cell_type": "code",
   "execution_count": 41,
   "metadata": {},
   "outputs": [],
   "source": [
    "Fare_lst = ran(df,\"Fare\")"
   ]
  },
  {
   "cell_type": "code",
   "execution_count": 42,
   "metadata": {},
   "outputs": [
    {
     "data": {
      "text/plain": [
       "(181.2844937601173, -116.87607782296811, 32.2042079685746)"
      ]
     },
     "execution_count": 42,
     "metadata": {},
     "output_type": "execute_result"
    }
   ],
   "source": [
    "Fare_lst"
   ]
  },
  {
   "cell_type": "code",
   "execution_count": 43,
   "metadata": {},
   "outputs": [],
   "source": [
    "df['Age'] = np.where(df['Age']>73, 73, df['Age'])"
   ]
  },
  {
   "cell_type": "code",
   "execution_count": 47,
   "metadata": {},
   "outputs": [],
   "source": [
    "df.loc[df['Fare'] > 181 , 'Fare'] = 181"
   ]
  },
  {
   "cell_type": "code",
   "execution_count": 50,
   "metadata": {},
   "outputs": [
    {
     "data": {
      "image/png": "[encoded data removed]",
      "text/plain": [
       "<Figure size 720x288 with 2 Axes>"
      ]
     },
     "metadata": {
      "needs_background": "light"
     },
     "output_type": "display_data"
    },
    {
     "data": {
      "image/png": "[encoded data removed]",
      "text/plain": [
       "<Figure size 720x288 with 2 Axes>"
      ]
     },
     "metadata": {
      "needs_background": "light"
     },
     "output_type": "display_data"
    }
   ],
   "source": [
    "for i in df.columns:\n",
    "    plt.figure(figsize = (10,4))\n",
    "    val = np.random.randint(100000,999999)\n",
    "    col = \"#\" + str(val)\n",
    "    plt.subplot(1,2,1)\n",
    "    sns.distplot(df[i], kde = False, color = col, label = i)\n",
    "    plt.legend()\n",
    "    plt.subplot(1,2,2)\n",
    "    sns.boxplot(df[i], color = col)\n",
    "\n",
    "    plt.show()"
   ]
  },
  {
   "cell_type": "code",
   "execution_count": 52,
   "metadata": {},
   "outputs": [],
   "source": [
    "# Still Fare Having more outliers because of it doesnt following normal distribution.\n",
    "# for that we use IQR"
   ]
  },
  {
   "cell_type": "code",
   "execution_count": 53,
   "metadata": {},
   "outputs": [],
   "source": [
    "Q1, Q3 = np.percentile(df['Fare'], [25,72])"
   ]
  },
  {
   "cell_type": "code",
   "execution_count": 54,
   "metadata": {},
   "outputs": [
    {
     "data": {
      "text/plain": [
       "7.9104"
      ]
     },
     "execution_count": 54,
     "metadata": {},
     "output_type": "execute_result"
    }
   ],
   "source": [
    "Q1"
   ]
  },
  {
   "cell_type": "code",
   "execution_count": 55,
   "metadata": {},
   "outputs": [
    {
     "data": {
      "text/plain": [
       "28.94249999999999"
      ]
     },
     "execution_count": 55,
     "metadata": {},
     "output_type": "execute_result"
    }
   ],
   "source": [
    "Q3"
   ]
  },
  {
   "cell_type": "code",
   "execution_count": 56,
   "metadata": {},
   "outputs": [],
   "source": [
    "IQR = Q3 - Q1"
   ]
  },
  {
   "cell_type": "code",
   "execution_count": 63,
   "metadata": {},
   "outputs": [],
   "source": [
    "Upper = Q3 + (3 * IQR) #Extreme Bound is selected because of It doesnt follow normal distribution\n",
    "Lower = Q1 - (3 * IQR)"
   ]
  },
  {
   "cell_type": "code",
   "execution_count": 64,
   "metadata": {},
   "outputs": [
    {
     "name": "stdout",
     "output_type": "stream",
     "text": [
      "-55.18589999999997\n",
      "92.03879999999995\n"
     ]
    }
   ],
   "source": [
    "print(Lower)\n",
    "print(Upper)"
   ]
  },
  {
   "cell_type": "code",
   "execution_count": 65,
   "metadata": {},
   "outputs": [],
   "source": [
    "df.loc[df['Fare']>92.03, 'Fare'] = 92"
   ]
  },
  {
   "cell_type": "code",
   "execution_count": 66,
   "metadata": {},
   "outputs": [
    {
     "data": {
      "image/png": "[encoded data removed]",
      "text/plain": [
       "<Figure size 720x288 with 2 Axes>"
      ]
     },
     "metadata": {
      "needs_background": "light"
     },
     "output_type": "display_data"
    },
    {
     "data": {
      "image/png": "[encoded data removed]",
      "text/plain": [
       "<Figure size 720x288 with 2 Axes>"
      ]
     },
     "metadata": {
      "needs_background": "light"
     },
     "output_type": "display_data"
    }
   ],
   "source": [
    "for i in df.columns:\n",
    "    plt.figure(figsize = (10,4))\n",
    "    val = np.random.randint(100000,999999)\n",
    "    col = \"#\" + str(val)\n",
    "    plt.subplot(1,2,1)\n",
    "    sns.distplot(df[i], kde = False, color = col, label = i)\n",
    "    plt.legend()\n",
    "    plt.subplot(1,2,2)\n",
    "    sns.boxplot(df[i], color = col)\n",
    "\n",
    "    plt.show()"
   ]
  },
  {
   "cell_type": "markdown",
   "metadata": {},
   "source": [
    "still having outlierss... uff!!!\n",
    "\n",
    "First apply transformation"
   ]
  },
  {
   "cell_type": "code",
   "execution_count": 80,
   "metadata": {},
   "outputs": [],
   "source": [
    "df = data.copy()"
   ]
  },
  {
   "cell_type": "code",
   "execution_count": 81,
   "metadata": {},
   "outputs": [],
   "source": [
    "df = df[['Age', 'Fare']].dropna()"
   ]
  },
  {
   "cell_type": "code",
   "execution_count": 82,
   "metadata": {},
   "outputs": [],
   "source": [
    "from scipy import stats\n",
    "for i in df.columns:\n",
    "    df[i + \"_log\"] = np.log(df[i]+1)\n",
    "    df[i + \"_exp\"] = np.exp(df[i])\n",
    "    df[i + \"_sqrt\"] = df[i] ** (1/2)\n",
    "    df[i + \"_rec\"] = 1/(df[i])\n",
    "    df[i + \"_box\"], param = stats.boxcox(df['Fare']+1)\n",
    "    "
   ]
  },
  {
   "cell_type": "code",
   "execution_count": 83,
   "metadata": {},
   "outputs": [
    {
     "data": {
      "text/html": [
       "<div>\n",
       "<style scoped>\n",
       "    .dataframe tbody tr th:only-of-type {\n",
       "        vertical-align: middle;\n",
       "    }\n",
       "\n",
       "    .dataframe tbody tr th {\n",
       "        vertical-align: top;\n",
       "    }\n",
       "\n",
       "    .dataframe thead th {\n",
       "        text-align: right;\n",
       "    }\n",
       "</style>\n",
       "<table border=\"1\" class=\"dataframe\">\n",
       "  <thead>\n",
       "    <tr style=\"text-align: right;\">\n",
       "      <th></th>\n",
       "      <th>Age</th>\n",
       "      <th>Fare</th>\n",
       "      <th>Age_log</th>\n",
       "      <th>Age_exp</th>\n",
       "      <th>Age_sqrt</th>\n",
       "      <th>Age_rec</th>\n",
       "      <th>Age_box</th>\n",
       "      <th>Fare_log</th>\n",
       "      <th>Fare_exp</th>\n",
       "      <th>Fare_sqrt</th>\n",
       "      <th>Fare_rec</th>\n",
       "      <th>Fare_box</th>\n",
       "    </tr>\n",
       "  </thead>\n",
       "  <tbody>\n",
       "    <tr>\n",
       "      <th>0</th>\n",
       "      <td>22.0</td>\n",
       "      <td>7.2500</td>\n",
       "      <td>3.135494</td>\n",
       "      <td>3.584913e+09</td>\n",
       "      <td>4.690416</td>\n",
       "      <td>0.045455</td>\n",
       "      <td>1.808693</td>\n",
       "      <td>2.110213</td>\n",
       "      <td>1.408105e+03</td>\n",
       "      <td>2.692582</td>\n",
       "      <td>0.137931</td>\n",
       "      <td>1.808693</td>\n",
       "    </tr>\n",
       "    <tr>\n",
       "      <th>1</th>\n",
       "      <td>38.0</td>\n",
       "      <td>71.2833</td>\n",
       "      <td>3.663562</td>\n",
       "      <td>3.185593e+16</td>\n",
       "      <td>6.164414</td>\n",
       "      <td>0.026316</td>\n",
       "      <td>3.158178</td>\n",
       "      <td>4.280593</td>\n",
       "      <td>9.077031e+30</td>\n",
       "      <td>8.442944</td>\n",
       "      <td>0.014029</td>\n",
       "      <td>3.158178</td>\n",
       "    </tr>\n",
       "    <tr>\n",
       "      <th>2</th>\n",
       "      <td>26.0</td>\n",
       "      <td>7.9250</td>\n",
       "      <td>3.295837</td>\n",
       "      <td>1.957296e+11</td>\n",
       "      <td>5.099020</td>\n",
       "      <td>0.038462</td>\n",
       "      <td>1.865651</td>\n",
       "      <td>2.188856</td>\n",
       "      <td>2.765564e+03</td>\n",
       "      <td>2.815138</td>\n",
       "      <td>0.126183</td>\n",
       "      <td>1.865651</td>\n",
       "    </tr>\n",
       "    <tr>\n",
       "      <th>3</th>\n",
       "      <td>35.0</td>\n",
       "      <td>53.1000</td>\n",
       "      <td>3.583519</td>\n",
       "      <td>1.586013e+15</td>\n",
       "      <td>5.916080</td>\n",
       "      <td>0.028571</td>\n",
       "      <td>3.002405</td>\n",
       "      <td>3.990834</td>\n",
       "      <td>1.150898e+23</td>\n",
       "      <td>7.286975</td>\n",
       "      <td>0.018832</td>\n",
       "      <td>3.002405</td>\n",
       "    </tr>\n",
       "    <tr>\n",
       "      <th>4</th>\n",
       "      <td>35.0</td>\n",
       "      <td>8.0500</td>\n",
       "      <td>3.583519</td>\n",
       "      <td>1.586013e+15</td>\n",
       "      <td>5.916080</td>\n",
       "      <td>0.028571</td>\n",
       "      <td>1.875654</td>\n",
       "      <td>2.202765</td>\n",
       "      <td>3.133795e+03</td>\n",
       "      <td>2.837252</td>\n",
       "      <td>0.124224</td>\n",
       "      <td>1.875654</td>\n",
       "    </tr>\n",
       "    <tr>\n",
       "      <th>...</th>\n",
       "      <td>...</td>\n",
       "      <td>...</td>\n",
       "      <td>...</td>\n",
       "      <td>...</td>\n",
       "      <td>...</td>\n",
       "      <td>...</td>\n",
       "      <td>...</td>\n",
       "      <td>...</td>\n",
       "      <td>...</td>\n",
       "      <td>...</td>\n",
       "      <td>...</td>\n",
       "      <td>...</td>\n",
       "    </tr>\n",
       "    <tr>\n",
       "      <th>885</th>\n",
       "      <td>39.0</td>\n",
       "      <td>29.1250</td>\n",
       "      <td>3.688879</td>\n",
       "      <td>8.659340e+16</td>\n",
       "      <td>6.244998</td>\n",
       "      <td>0.025641</td>\n",
       "      <td>2.666205</td>\n",
       "      <td>3.405355</td>\n",
       "      <td>4.454785e+12</td>\n",
       "      <td>5.396758</td>\n",
       "      <td>0.034335</td>\n",
       "      <td>2.666205</td>\n",
       "    </tr>\n",
       "    <tr>\n",
       "      <th>886</th>\n",
       "      <td>27.0</td>\n",
       "      <td>13.0000</td>\n",
       "      <td>3.332205</td>\n",
       "      <td>5.320482e+11</td>\n",
       "      <td>5.196152</td>\n",
       "      <td>0.037037</td>\n",
       "      <td>2.179080</td>\n",
       "      <td>2.639057</td>\n",
       "      <td>4.424134e+05</td>\n",
       "      <td>3.605551</td>\n",
       "      <td>0.076923</td>\n",
       "      <td>2.179080</td>\n",
       "    </tr>\n",
       "    <tr>\n",
       "      <th>887</th>\n",
       "      <td>19.0</td>\n",
       "      <td>30.0000</td>\n",
       "      <td>2.995732</td>\n",
       "      <td>1.784823e+08</td>\n",
       "      <td>4.358899</td>\n",
       "      <td>0.052632</td>\n",
       "      <td>2.683342</td>\n",
       "      <td>3.433987</td>\n",
       "      <td>1.068647e+13</td>\n",
       "      <td>5.477226</td>\n",
       "      <td>0.033333</td>\n",
       "      <td>2.683342</td>\n",
       "    </tr>\n",
       "    <tr>\n",
       "      <th>889</th>\n",
       "      <td>26.0</td>\n",
       "      <td>30.0000</td>\n",
       "      <td>3.295837</td>\n",
       "      <td>1.957296e+11</td>\n",
       "      <td>5.099020</td>\n",
       "      <td>0.038462</td>\n",
       "      <td>2.683342</td>\n",
       "      <td>3.433987</td>\n",
       "      <td>1.068647e+13</td>\n",
       "      <td>5.477226</td>\n",
       "      <td>0.033333</td>\n",
       "      <td>2.683342</td>\n",
       "    </tr>\n",
       "    <tr>\n",
       "      <th>890</th>\n",
       "      <td>32.0</td>\n",
       "      <td>7.7500</td>\n",
       "      <td>3.496508</td>\n",
       "      <td>7.896296e+13</td>\n",
       "      <td>5.656854</td>\n",
       "      <td>0.031250</td>\n",
       "      <td>1.851372</td>\n",
       "      <td>2.169054</td>\n",
       "      <td>2.321572e+03</td>\n",
       "      <td>2.783882</td>\n",
       "      <td>0.129032</td>\n",
       "      <td>1.851372</td>\n",
       "    </tr>\n",
       "  </tbody>\n",
       "</table>\n",
       "<p>714 rows × 12 columns</p>\n",
       "</div>"
      ],
      "text/plain": [
       "      Age     Fare   Age_log       Age_exp  Age_sqrt   Age_rec   Age_box  \\\n",
       "0    22.0   7.2500  3.135494  3.584913e+09  4.690416  0.045455  1.808693   \n",
       "1    38.0  71.2833  3.663562  3.185593e+16  6.164414  0.026316  3.158178   \n",
       "2    26.0   7.9250  3.295837  1.957296e+11  5.099020  0.038462  1.865651   \n",
       "3    35.0  53.1000  3.583519  1.586013e+15  5.916080  0.028571  3.002405   \n",
       "4    35.0   8.0500  3.583519  1.586013e+15  5.916080  0.028571  1.875654   \n",
       "..    ...      ...       ...           ...       ...       ...       ...   \n",
       "885  39.0  29.1250  3.688879  8.659340e+16  6.244998  0.025641  2.666205   \n",
       "886  27.0  13.0000  3.332205  5.320482e+11  5.196152  0.037037  2.179080   \n",
       "887  19.0  30.0000  2.995732  1.784823e+08  4.358899  0.052632  2.683342   \n",
       "889  26.0  30.0000  3.295837  1.957296e+11  5.099020  0.038462  2.683342   \n",
       "890  32.0   7.7500  3.496508  7.896296e+13  5.656854  0.031250  1.851372   \n",
       "\n",
       "     Fare_log      Fare_exp  Fare_sqrt  Fare_rec  Fare_box  \n",
       "0    2.110213  1.408105e+03   2.692582  0.137931  1.808693  \n",
       "1    4.280593  9.077031e+30   8.442944  0.014029  3.158178  \n",
       "2    2.188856  2.765564e+03   2.815138  0.126183  1.865651  \n",
       "3    3.990834  1.150898e+23   7.286975  0.018832  3.002405  \n",
       "4    2.202765  3.133795e+03   2.837252  0.124224  1.875654  \n",
       "..        ...           ...        ...       ...       ...  \n",
       "885  3.405355  4.454785e+12   5.396758  0.034335  2.666205  \n",
       "886  2.639057  4.424134e+05   3.605551  0.076923  2.179080  \n",
       "887  3.433987  1.068647e+13   5.477226  0.033333  2.683342  \n",
       "889  3.433987  1.068647e+13   5.477226  0.033333  2.683342  \n",
       "890  2.169054  2.321572e+03   2.783882  0.129032  1.851372  \n",
       "\n",
       "[714 rows x 12 columns]"
      ]
     },
     "execution_count": 83,
     "metadata": {},
     "output_type": "execute_result"
    }
   ],
   "source": [
    "df"
   ]
  },
  {
   "cell_type": "code",
   "execution_count": 87,
   "metadata": {},
   "outputs": [
    {
     "data": {
      "image/png": "[encoded data removed]",
      "text/plain": [
       "<Figure size 720x288 with 2 Axes>"
      ]
     },
     "metadata": {
      "needs_background": "light"
     },
     "output_type": "display_data"
    },
    {
     "data": {
      "image/png": "[encoded data removed]",
      "text/plain": [
       "<Figure size 720x288 with 2 Axes>"
      ]
     },
     "metadata": {
      "needs_background": "light"
     },
     "output_type": "display_data"
    },
    {
     "data": {
      "image/png": "[encoded data removed]",
      "text/plain": [
       "<Figure size 720x288 with 2 Axes>"
      ]
     },
     "metadata": {
      "needs_background": "light"
     },
     "output_type": "display_data"
    },
    {
     "data": {
      "image/png": "[encoded data removed]",
      "text/plain": [
       "<Figure size 720x288 with 2 Axes>"
      ]
     },
     "metadata": {
      "needs_background": "light"
     },
     "output_type": "display_data"
    },
    {
     "data": {
      "image/png": "[encoded data removed]",
      "text/plain": [
       "<Figure size 720x288 with 2 Axes>"
      ]
     },
     "metadata": {
      "needs_background": "light"
     },
     "output_type": "display_data"
    },
    {
     "data": {
      "image/png": "[encoded data removed]",
      "text/plain": [
       "<Figure size 720x288 with 2 Axes>"
      ]
     },
     "metadata": {
      "needs_background": "light"
     },
     "output_type": "display_data"
    },
    {
     "data": {
      "image/png": "[encoded data removed]",
      "text/plain": [
       "<Figure size 720x288 with 2 Axes>"
      ]
     },
     "metadata": {
      "needs_background": "light"
     },
     "output_type": "display_data"
    },
    {
     "data": {
      "image/png": "[encoded data removed]",
      "text/plain": [
       "<Figure size 720x288 with 2 Axes>"
      ]
     },
     "metadata": {
      "needs_background": "light"
     },
     "output_type": "display_data"
    },
    {
     "data": {
      "image/png": "[encoded data removed]",
      "text/plain": [
       "<Figure size 720x288 with 2 Axes>"
      ]
     },
     "metadata": {
      "needs_background": "light"
     },
     "output_type": "display_data"
    },
    {
     "data": {
      "image/png": "[encoded data removed]",
      "text/plain": [
       "<Figure size 720x288 with 2 Axes>"
      ]
     },
     "metadata": {
      "needs_background": "light"
     },
     "output_type": "display_data"
    }
   ],
   "source": [
    "for i in df.columns:\n",
    "    if \"rec\" in i.lower():\n",
    "        continue\n",
    "    plt.figure(figsize = (10,4))\n",
    "    val = np.random.randint(100000,999999)\n",
    "    col = \"#\" + str(val)\n",
    "    plt.subplot(1,2,1)\n",
    "    sns.distplot(df[i], kde = False, color = col, label = i)\n",
    "    plt.legend()\n",
    "    plt.subplot(1,2,2)\n",
    "    sns.boxplot(df[i], color = col)\n",
    "\n",
    "    plt.show()"
   ]
  },
  {
   "cell_type": "markdown",
   "metadata": {},
   "source": [
    "### From Fare_log and Fare_box looks good.\n",
    "Take that and find a range and remove outliers.\n",
    " \n",
    "Its the method for finding the outliers and removing the outliers."
   ]
  },
  {
   "cell_type": "code",
   "execution_count": null,
   "metadata": {},
   "outputs": [],
   "source": []
  }
 ],
 "metadata": {
  "kernelspec": {
   "display_name": "Python 3",
   "language": "python",
   "name": "python3"
  },
  "language_info": {
   "codemirror_mode": {
    "name": "ipython",
    "version": 3
   },
   "file_extension": ".py",
   "mimetype": "text/x-python",
   "name": "python",
   "nbconvert_exporter": "python",
   "pygments_lexer": "ipython3",
   "version": "3.8.5"
  }
 },
 "nbformat": 4,
 "nbformat_minor": 4
}
